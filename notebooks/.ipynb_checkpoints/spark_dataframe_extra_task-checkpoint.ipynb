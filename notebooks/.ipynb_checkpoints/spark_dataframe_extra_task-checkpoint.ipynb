{
 "cells": [
  {
   "cell_type": "code",
   "execution_count": 1,
   "metadata": {},
   "outputs": [],
   "source": [
    "from pyspark.sql import SparkSession, functions as F, types as T"
   ]
  },
  {
   "cell_type": "code",
   "execution_count": 5,
   "metadata": {
    "pycharm": {
     "is_executing": true
    }
   },
   "outputs": [
    {
     "name": "stderr",
     "output_type": "stream",
     "text": [
      "25/06/07 14:22:39 WARN SparkSession: Using an existing Spark session; only runtime SQL configurations will take effect.\n"
     ]
    }
   ],
   "source": [
    "import os\n",
    "os.environ[\"JAVA_HOME\"] = \"/Library/Java/JavaVirtualMachines/jdk-17.jdk/Contents/Home\"\n",
    "\n",
    "spark = SparkSession.builder.master(\"spark://spark-master:7077\").config(\"spark.jars.packages\", \n",
    "                                                                        \"org.apache.hadoop:hadoop-aws-2.7.3\").appName(\"spark-hw\").getOrCreate()"
   ]
  },
  {
   "cell_type": "code",
   "execution_count": null,
   "metadata": {},
   "outputs": [],
   "source": []
  },
  {
   "cell_type": "code",
   "execution_count": null,
   "metadata": {},
   "outputs": [],
   "source": []
  },
  {
   "cell_type": "code",
   "execution_count": null,
   "metadata": {},
   "outputs": [],
   "source": []
  },
  {
   "cell_type": "code",
   "execution_count": 6,
   "metadata": {},
   "outputs": [
    {
     "name": "stdout",
     "output_type": "stream",
     "text": [
      "3.5.5\n"
     ]
    }
   ],
   "source": [
    "print(spark.version)"
   ]
  },
  {
   "cell_type": "code",
   "execution_count": 8,
   "metadata": {},
   "outputs": [],
   "source": [
    "actor_df = spark.read.csv('../data/actor.csv', header=True, inferSchema=True)\n",
    "address_df = spark.read.csv('../data/address.csv', header=True, inferSchema=True)\n",
    "category_df = spark.read.csv('../data/category.csv', header=True, inferSchema=True)\n",
    "city_df = spark.read.csv('../data/city.csv', header=True, inferSchema=True)\n",
    "country_df = spark.read.csv('../data/country.csv', header=True, inferSchema=True)\n",
    "customer_df = spark.read.csv('../data/customer.csv', header=True, inferSchema=True)\n",
    "film_df = spark.read.csv('../data/film.csv', header=True, inferSchema=True)\n",
    "film_actor_df = spark.read.csv('../data/film_actor.csv', header=True, inferSchema=True)\n",
    "film_category_df = spark.read.csv('../data/film_category.csv', header=True, inferSchema=True)\n",
    "inventory_df = spark.read.csv('../data/inventory.csv', header=True, inferSchema=True)\n",
    "language_df = spark.read.csv('../data/language.csv', header=True, inferSchema=True)\n",
    "payment_df = spark.read.csv('../data/payment.csv', header=True, inferSchema=True)\n",
    "rental_df = spark.read.csv('../data/rental.csv', header=True, inferSchema=True)\n",
    "staff_df = spark.read.csv('../data/staff.csv', header=True, inferSchema=True)\n",
    "store_df = spark.read.csv('../data/store.csv', header=True, inferSchema=True)"
   ]
  },
  {
   "cell_type": "markdown",
   "metadata": {},
   "source": [
    "# Домашнє завдання на тему Spark SQL\n",
    "\n",
    "Задачі з домашнього завдання на SQL потрібно розвʼязати за допомогою Spark SQL DataFrame API.\n",
    "\n",
    "- Дампи таблиць знаходяться в папці `data`. Датафрейми таблиць вже створені в клітинці вище.\n",
    "- Можете створювати стільки нових клітинок, скільки вам необхідно.\n",
    "- Розвʼязок кожної задачі має бути відображений в самому файлі (використати метод `.show()`)\n",
    "- код має бути оформлений у відповідності із одним із стилем, показаним лектором на занятті 13.\n",
    "\n",
    "**Увага!**\n",
    "Використовувати мову запитів SQL безпосередньо забороняється, потрібно використовувати виключно DataFrame API!\n"
   ]
  },
  {
   "cell_type": "markdown",
   "metadata": {},
   "source": [
    "1.\n",
    "Вивести кількість фільмів в кожній категорії.\n",
    "Результат відсортувати за спаданням."
   ]
  },
  {
   "cell_type": "code",
   "execution_count": 9,
   "metadata": {},
   "outputs": [
    {
     "name": "stdout",
     "output_type": "stream",
     "text": [
      "+-----------+----------+\n",
      "|       name|film_count|\n",
      "+-----------+----------+\n",
      "|     Sports|        74|\n",
      "|    Foreign|        73|\n",
      "|     Family|        69|\n",
      "|Documentary|        68|\n",
      "|  Animation|        66|\n",
      "|     Action|        64|\n",
      "|        New|        63|\n",
      "|      Drama|        62|\n",
      "|      Games|        61|\n",
      "|     Sci-Fi|        61|\n",
      "|   Children|        60|\n",
      "|     Comedy|        58|\n",
      "|     Travel|        57|\n",
      "|   Classics|        57|\n",
      "|     Horror|        56|\n",
      "|      Music|        51|\n",
      "+-----------+----------+\n",
      "\n"
     ]
    }
   ],
   "source": [
    "# тут має бути розвʼязок задачі\n",
    "\n",
    "from pyspark.sql.functions import count\n",
    "\n",
    "\n",
    "films_per_category_df = film_category_df.join(\n",
    "    category_df,\n",
    "    film_category_df.category_id == category_df.category_id,\n",
    "    how='inner'\n",
    ")\n",
    "\n",
    "\n",
    "films_count_df = films_per_category_df.groupBy(\"name\") \\\n",
    "    .agg(count(\"film_id\").alias(\"film_count\")) \\\n",
    "    .orderBy(\"film_count\", ascending=False)\n",
    "\n",
    "\n",
    "films_count_df.show()\n"
   ]
  },
  {
   "cell_type": "markdown",
   "metadata": {},
   "source": [
    "2.\n",
    "Вивести 10 акторів, чиї фільми брали на прокат найбільше.\n",
    "Результат відсортувати за спаданням."
   ]
  },
  {
   "cell_type": "code",
   "execution_count": 16,
   "metadata": {},
   "outputs": [
    {
     "name": "stdout",
     "output_type": "stream",
     "text": [
      "+------------------+------------+\n",
      "|         full_name|rental_count|\n",
      "+------------------+------------+\n",
      "|       SUSAN DAVIS|         825|\n",
      "|    GINA DEGENERES|         753|\n",
      "|    MATTHEW CARREY|         678|\n",
      "|       MARY KEITEL|         674|\n",
      "|ANGELA WITHERSPOON|         654|\n",
      "|       WALTER TORN|         640|\n",
      "|       HENRY BERRY|         612|\n",
      "|       JAYNE NOLTE|         611|\n",
      "|        VAL BOLGER|         605|\n",
      "|     SANDRA KILMER|         604|\n",
      "+------------------+------------+\n",
      "only showing top 10 rows\n",
      "\n"
     ]
    }
   ],
   "source": [
    "from pyspark.sql.functions import count, concat_ws\n",
    "\n",
    "\n",
    "actor_film_df = actor_df.join(\n",
    "    film_actor_df,\n",
    "    actor_df.actor_id == film_actor_df.actor_id,\n",
    "    how='inner'\n",
    ")\n",
    "\n",
    "\n",
    "actor_inventory_df = actor_film_df.join(\n",
    "    inventory_df,\n",
    "    actor_film_df.film_id == inventory_df.film_id,\n",
    "    how='inner'\n",
    ")\n",
    "\n",
    "\n",
    "actor_rental_df = actor_inventory_df.join(\n",
    "    rental_df,\n",
    "    actor_inventory_df.inventory_id == rental_df.inventory_id,\n",
    "    how='inner'\n",
    ")\n",
    "\n",
    "\n",
    "actor_rental_count_df = actor_rental_df.withColumn(\n",
    "    \"full_name\", concat_ws(\" \", actor_df.first_name, actor_df.last_name)\n",
    ").groupBy(\"full_name\") \\\n",
    " .agg(count(\"rental_id\").alias(\"rental_count\")) \\\n",
    " .orderBy(\"rental_count\", ascending=False)\n",
    "\n",
    "\n",
    "actor_rental_count_df.show(10)\n"
   ]
  },
  {
   "cell_type": "markdown",
   "metadata": {},
   "source": [
    "3.\n",
    "Вивести категорія фільмів, на яку було витрачено найбільше грошей\n",
    "в прокаті"
   ]
  },
  {
   "cell_type": "code",
   "execution_count": null,
   "metadata": {},
   "outputs": [],
   "source": [
    "# тут має бути розвʼязок задачі"
   ]
  },
  {
   "cell_type": "markdown",
   "metadata": {},
   "source": [
    "4.\n",
    "Вивести назви фільмів, яких не має в inventory."
   ]
  },
  {
   "cell_type": "code",
   "execution_count": null,
   "metadata": {},
   "outputs": [],
   "source": [
    "# тут має бути розвʼязок задачі"
   ]
  },
  {
   "cell_type": "markdown",
   "metadata": {},
   "source": [
    "5.\n",
    "Вивести топ 3 актори, які найбільше зʼявлялись в категорії фільмів “Children”"
   ]
  },
  {
   "cell_type": "code",
   "execution_count": null,
   "metadata": {
    "pycharm": {
     "is_executing": true
    }
   },
   "outputs": [],
   "source": [
    "# тут має бути розвʼязок задачі"
   ]
  },
  {
   "cell_type": "code",
   "execution_count": null,
   "metadata": {},
   "outputs": [],
   "source": []
  },
  {
   "cell_type": "markdown",
   "metadata": {},
   "source": [
    "Stop Spark session:"
   ]
  },
  {
   "cell_type": "code",
   "execution_count": null,
   "metadata": {},
   "outputs": [],
   "source": [
    "spark.stop()"
   ]
  }
 ],
 "metadata": {
  "kernelspec": {
   "display_name": "Python 3 (ipykernel)",
   "language": "python",
   "name": "python3"
  },
  "language_info": {
   "codemirror_mode": {
    "name": "ipython",
    "version": 3
   },
   "file_extension": ".py",
   "mimetype": "text/x-python",
   "name": "python",
   "nbconvert_exporter": "python",
   "pygments_lexer": "ipython3",
   "version": "3.11.4"
  }
 },
 "nbformat": 4,
 "nbformat_minor": 1
}
